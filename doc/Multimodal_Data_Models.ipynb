{
  "cells": [
    {
      "cell_type": "markdown",
      "metadata": {
        "id": "1K0sD8Mb4cwt"
      },
      "source": [
        "# Multimodal Data Models\n",
        "\n",
        "MRI and ECG data from UK Biobank:\n",
        "catalog accession ids are GCST90250896 (for\n",
        "cross-modal ECG and cardiac MRI unsupervised GWAS)"
      ]
    },
    {
      "cell_type": "markdown",
      "metadata": {
        "id": "63RDqHyyQIv1"
      },
      "source": [
        "## Download Data"
      ]
    },
    {
      "cell_type": "code",
      "execution_count": null,
      "metadata": {
        "colab": {
          "base_uri": "https://localhost:8080/"
        },
        "id": "zmZ1SjAkLpqL",
        "outputId": "af132765-5cf7-43cc-f4bc-02fdcedd4dfb"
      },
      "outputs": [
        {
          "name": "stdout",
          "output_type": "stream",
          "text": [
            "Requirement already satisfied: opendatasets in /usr/local/lib/python3.10/dist-packages (0.1.22)\n",
            "Requirement already satisfied: tqdm in /usr/local/lib/python3.10/dist-packages (from opendatasets) (4.66.2)\n",
            "Requirement already satisfied: kaggle in /usr/local/lib/python3.10/dist-packages (from opendatasets) (1.5.16)\n",
            "Requirement already satisfied: click in /usr/local/lib/python3.10/dist-packages (from opendatasets) (8.1.7)\n",
            "Requirement already satisfied: six>=1.10 in /usr/local/lib/python3.10/dist-packages (from kaggle->opendatasets) (1.16.0)\n",
            "Requirement already satisfied: certifi in /usr/local/lib/python3.10/dist-packages (from kaggle->opendatasets) (2024.2.2)\n",
            "Requirement already satisfied: python-dateutil in /usr/local/lib/python3.10/dist-packages (from kaggle->opendatasets) (2.8.2)\n",
            "Requirement already satisfied: requests in /usr/local/lib/python3.10/dist-packages (from kaggle->opendatasets) (2.31.0)\n",
            "Requirement already satisfied: python-slugify in /usr/local/lib/python3.10/dist-packages (from kaggle->opendatasets) (8.0.4)\n",
            "Requirement already satisfied: urllib3 in /usr/local/lib/python3.10/dist-packages (from kaggle->opendatasets) (2.0.7)\n",
            "Requirement already satisfied: bleach in /usr/local/lib/python3.10/dist-packages (from kaggle->opendatasets) (6.1.0)\n",
            "Requirement already satisfied: webencodings in /usr/local/lib/python3.10/dist-packages (from bleach->kaggle->opendatasets) (0.5.1)\n",
            "Requirement already satisfied: text-unidecode>=1.3 in /usr/local/lib/python3.10/dist-packages (from python-slugify->kaggle->opendatasets) (1.3)\n",
            "Requirement already satisfied: charset-normalizer<4,>=2 in /usr/local/lib/python3.10/dist-packages (from requests->kaggle->opendatasets) (3.3.2)\n",
            "Requirement already satisfied: idna<4,>=2.5 in /usr/local/lib/python3.10/dist-packages (from requests->kaggle->opendatasets) (3.7)\n",
            "Requirement already satisfied: kaggle in /usr/local/lib/python3.10/dist-packages (1.5.16)\n",
            "Requirement already satisfied: six>=1.10 in /usr/local/lib/python3.10/dist-packages (from kaggle) (1.16.0)\n",
            "Requirement already satisfied: certifi in /usr/local/lib/python3.10/dist-packages (from kaggle) (2024.2.2)\n",
            "Requirement already satisfied: python-dateutil in /usr/local/lib/python3.10/dist-packages (from kaggle) (2.8.2)\n",
            "Requirement already satisfied: requests in /usr/local/lib/python3.10/dist-packages (from kaggle) (2.31.0)\n",
            "Requirement already satisfied: tqdm in /usr/local/lib/python3.10/dist-packages (from kaggle) (4.66.2)\n",
            "Requirement already satisfied: python-slugify in /usr/local/lib/python3.10/dist-packages (from kaggle) (8.0.4)\n",
            "Requirement already satisfied: urllib3 in /usr/local/lib/python3.10/dist-packages (from kaggle) (2.0.7)\n",
            "Requirement already satisfied: bleach in /usr/local/lib/python3.10/dist-packages (from kaggle) (6.1.0)\n",
            "Requirement already satisfied: webencodings in /usr/local/lib/python3.10/dist-packages (from bleach->kaggle) (0.5.1)\n",
            "Requirement already satisfied: text-unidecode>=1.3 in /usr/local/lib/python3.10/dist-packages (from python-slugify->kaggle) (1.3)\n",
            "Requirement already satisfied: charset-normalizer<4,>=2 in /usr/local/lib/python3.10/dist-packages (from requests->kaggle) (3.3.2)\n",
            "Requirement already satisfied: idna<4,>=2.5 in /usr/local/lib/python3.10/dist-packages (from requests->kaggle) (3.7)\n"
          ]
        }
      ],
      "source": [
        "!pip install opendatasets\n",
        "!pip install kaggle"
      ]
    },
    {
      "cell_type": "markdown",
      "metadata": {
        "id": "uAZXm4zjLtpQ"
      },
      "source": [
        "Mount google drive to save Kaggle API credentials"
      ]
    },
    {
      "cell_type": "code",
      "execution_count": null,
      "metadata": {
        "colab": {
          "base_uri": "https://localhost:8080/"
        },
        "id": "4sNUkpcLMdEL",
        "outputId": "b920a98d-d456-4f9b-d9a6-6d276ac4ea97"
      },
      "outputs": [
        {
          "name": "stdout",
          "output_type": "stream",
          "text": [
            "Drive already mounted at /content/drive; to attempt to forcibly remount, call drive.mount(\"/content/drive\", force_remount=True).\n"
          ]
        }
      ],
      "source": [
        "from google.colab import drive\n",
        "drive.mount('/content/drive')"
      ]
    },
    {
      "cell_type": "code",
      "execution_count": null,
      "metadata": {
        "colab": {
          "base_uri": "https://localhost:8080/"
        },
        "id": "cPnglop-NdKz",
        "outputId": "26bb9ab7-0a8e-4e69-ba0b-24ae74d30c9f"
      },
      "outputs": [
        {
          "name": "stdout",
          "output_type": "stream",
          "text": [
            "mkdir: cannot create directory ‘/root/.kaggle’: File exists\n"
          ]
        }
      ],
      "source": [
        "# kaggle api key\n",
        "! mkdir ~/.kaggle"
      ]
    },
    {
      "cell_type": "code",
      "execution_count": null,
      "metadata": {
        "id": "39Mgs2tEO2io"
      },
      "outputs": [],
      "source": [
        "! cp /content/drive/MyDrive/Columbia/kaggle.json ~/.kaggle/kaggle.json"
      ]
    },
    {
      "cell_type": "code",
      "execution_count": null,
      "metadata": {
        "id": "BRnzz_q4QBmH"
      },
      "outputs": [],
      "source": [
        "! chmod 600 ~/.kaggle/kaggle.json"
      ]
    },
    {
      "cell_type": "code",
      "execution_count": null,
      "metadata": {
        "colab": {
          "base_uri": "https://localhost:8080/"
        },
        "id": "gHgloTNkQKWu",
        "outputId": "115bfcd2-db5b-41c9-88db-66619f204ae8"
      },
      "outputs": [
        {
          "name": "stdout",
          "output_type": "stream",
          "text": [
            "ptb-xl-dataset.zip: Skipping, found more recently modified local copy (use --force to force download)\n"
          ]
        }
      ],
      "source": [
        "! kaggle datasets download khyeh0719/ptb-xl-dataset"
      ]
    },
    {
      "cell_type": "code",
      "execution_count": null,
      "metadata": {
        "colab": {
          "background_save": true,
          "base_uri": "https://localhost:8080/"
        },
        "id": "n0qrbnpKRVqg",
        "outputId": "2480577d-8903-407b-adae-7a97bc1f9671"
      },
      "outputs": [
        {
          "name": "stdout",
          "output_type": "stream",
          "text": [
            "Archive:  /content/ptb-xl-dataset.zip\n",
            "replace ptb-xl-a-large-publicly-available-electrocardiography-dataset-1.0.1/LICENSE.txt? [y]es, [n]o, [A]ll, [N]one, [r]ename: "
          ]
        }
      ],
      "source": [
        "! unzip /content/ptb-xl-dataset.zip"
      ]
    },
    {
      "cell_type": "markdown",
      "metadata": {
        "id": "X_dRFCGhS3zI"
      },
      "source": [
        "## Unpack Data"
      ]
    },
    {
      "cell_type": "code",
      "execution_count": null,
      "metadata": {
        "colab": {
          "background_save": true,
          "base_uri": "https://localhost:8080/"
        },
        "id": "6A0RALrqOj1X",
        "outputId": "440324b2-c177-403b-f6f1-beae5a447d60"
      },
      "outputs": [
        {
          "name": "stdout",
          "output_type": "stream",
          "text": [
            "Requirement already satisfied: wfdb in /usr/local/lib/python3.10/dist-packages (4.1.2)\n",
            "Requirement already satisfied: SoundFile>=0.10.0 in /usr/local/lib/python3.10/dist-packages (from wfdb) (0.12.1)\n",
            "Requirement already satisfied: matplotlib>=3.2.2 in /usr/local/lib/python3.10/dist-packages (from wfdb) (3.7.1)\n",
            "Requirement already satisfied: numpy>=1.10.1 in /usr/local/lib/python3.10/dist-packages (from wfdb) (1.25.2)\n",
            "Requirement already satisfied: pandas>=1.3.0 in /usr/local/lib/python3.10/dist-packages (from wfdb) (2.0.3)\n",
            "Requirement already satisfied: requests>=2.8.1 in /usr/local/lib/python3.10/dist-packages (from wfdb) (2.31.0)\n",
            "Requirement already satisfied: scipy>=1.0.0 in /usr/local/lib/python3.10/dist-packages (from wfdb) (1.11.4)\n",
            "Requirement already satisfied: contourpy>=1.0.1 in /usr/local/lib/python3.10/dist-packages (from matplotlib>=3.2.2->wfdb) (1.2.1)\n",
            "Requirement already satisfied: cycler>=0.10 in /usr/local/lib/python3.10/dist-packages (from matplotlib>=3.2.2->wfdb) (0.12.1)\n",
            "Requirement already satisfied: fonttools>=4.22.0 in /usr/local/lib/python3.10/dist-packages (from matplotlib>=3.2.2->wfdb) (4.51.0)\n",
            "Requirement already satisfied: kiwisolver>=1.0.1 in /usr/local/lib/python3.10/dist-packages (from matplotlib>=3.2.2->wfdb) (1.4.5)\n",
            "Requirement already satisfied: packaging>=20.0 in /usr/local/lib/python3.10/dist-packages (from matplotlib>=3.2.2->wfdb) (24.0)\n",
            "Requirement already satisfied: pillow>=6.2.0 in /usr/local/lib/python3.10/dist-packages (from matplotlib>=3.2.2->wfdb) (9.4.0)\n",
            "Requirement already satisfied: pyparsing>=2.3.1 in /usr/local/lib/python3.10/dist-packages (from matplotlib>=3.2.2->wfdb) (3.1.2)\n",
            "Requirement already satisfied: python-dateutil>=2.7 in /usr/local/lib/python3.10/dist-packages (from matplotlib>=3.2.2->wfdb) (2.8.2)\n",
            "Requirement already satisfied: pytz>=2020.1 in /usr/local/lib/python3.10/dist-packages (from pandas>=1.3.0->wfdb) (2023.4)\n",
            "Requirement already satisfied: tzdata>=2022.1 in /usr/local/lib/python3.10/dist-packages (from pandas>=1.3.0->wfdb) (2024.1)\n",
            "Requirement already satisfied: charset-normalizer<4,>=2 in /usr/local/lib/python3.10/dist-packages (from requests>=2.8.1->wfdb) (3.3.2)\n",
            "Requirement already satisfied: idna<4,>=2.5 in /usr/local/lib/python3.10/dist-packages (from requests>=2.8.1->wfdb) (3.7)\n",
            "Requirement already satisfied: urllib3<3,>=1.21.1 in /usr/local/lib/python3.10/dist-packages (from requests>=2.8.1->wfdb) (2.0.7)\n",
            "Requirement already satisfied: certifi>=2017.4.17 in /usr/local/lib/python3.10/dist-packages (from requests>=2.8.1->wfdb) (2024.2.2)\n",
            "Requirement already satisfied: cffi>=1.0 in /usr/local/lib/python3.10/dist-packages (from SoundFile>=0.10.0->wfdb) (1.16.0)\n",
            "Requirement already satisfied: pycparser in /usr/local/lib/python3.10/dist-packages (from cffi>=1.0->SoundFile>=0.10.0->wfdb) (2.22)\n",
            "Requirement already satisfied: six>=1.5 in /usr/local/lib/python3.10/dist-packages (from python-dateutil>=2.7->matplotlib>=3.2.2->wfdb) (1.16.0)\n"
          ]
        }
      ],
      "source": [
        "! pip install wfdb"
      ]
    },
    {
      "cell_type": "code",
      "execution_count": 34,
      "metadata": {
        "id": "2ljnbc3TS57T"
      },
      "outputs": [],
      "source": [
        "import pandas as pd\n",
        "import numpy as np\n",
        "import pandas as pd\n",
        "import matplotlib.pyplot as plt\n",
        "import matplotlib.colors as colors\n",
        "import wfdb\n",
        "import ast\n",
        "from collections import Counter"
      ]
    },
    {
      "cell_type": "code",
      "execution_count": null,
      "metadata": {
        "colab": {
          "background_save": true
        },
        "id": "WXr33h39YHli"
      },
      "outputs": [],
      "source": [
        "! cd /content/ptb-xl-a-large-publicly-available-electrocardiography-dataset-1.0.1"
      ]
    },
    {
      "cell_type": "code",
      "execution_count": 35,
      "metadata": {
        "id": "W3S8S5H-X0TX"
      },
      "outputs": [],
      "source": [
        "df = pd.read_csv(\"/content/ptb-xl-a-large-publicly-available-electrocardiography-dataset-1.0.1/ptbxl_database.csv\")"
      ]
    },
    {
      "cell_type": "code",
      "execution_count": 36,
      "metadata": {
        "id": "AqjHAGZIY9Cq"
      },
      "outputs": [],
      "source": [
        "df = df.drop(['nurse', 'site', 'device', 'recording_date', 'report',\n",
        "              'heart_axis', 'infarction_stadium1', 'infarction_stadium2', 'validated_by',\n",
        "              'second_opinion', 'initial_autogenerated_report', 'validated_by_human',\n",
        "              'baseline_drift', 'static_noise', 'burst_noise', 'electrodes_problems',\n",
        "              'extra_beats', 'pacemaker', 'strat_fold'], axis=1)"
      ]
    },
    {
      "cell_type": "code",
      "execution_count": 37,
      "metadata": {
        "id": "s6h5gMIcYARz"
      },
      "outputs": [],
      "source": [
        "numerical_cols = df.select_dtypes(include=[np.number]).columns\n",
        "df[numerical_cols] = df[numerical_cols].fillna(df[numerical_cols].mean())"
      ]
    },
    {
      "cell_type": "code",
      "execution_count": 38,
      "metadata": {
        "id": "01Ct3yOGatE_"
      },
      "outputs": [],
      "source": [
        "df[\"scp_code\"] = [s[s.find(\"'\")+1:s.find(\"'\", s.find(\"'\")+2)] for s in df['scp_codes']]"
      ]
    },
    {
      "cell_type": "code",
      "execution_count": 39,
      "metadata": {
        "colab": {
          "base_uri": "https://localhost:8080/",
          "height": 527
        },
        "id": "EWUeDeU1al3m",
        "outputId": "1ae1e3e8-2055-43ae-d0ad-d43d9431996c"
      },
      "outputs": [
        {
          "output_type": "display_data",
          "data": {
            "text/plain": [
              "<Figure size 1000x600 with 1 Axes>"
            ],
            "image/png": "[encoded data removed]"
          },
          "metadata": {}
        }
      ],
      "source": [
        "scp_code_values = df[\"scp_code\"].value_counts()\n",
        "\n",
        "# Create a bar chart\n",
        "plt.figure(figsize=(10, 6))\n",
        "scp_code_values.plot(kind='bar', color='skyblue')\n",
        "plt.title('SCP Code Categories')\n",
        "plt.xlabel('Code')\n",
        "plt.ylabel('Count')\n",
        "plt.xticks(rotation=90)\n",
        "plt.grid(axis='y')\n",
        "\n",
        "# Show plot\n",
        "plt.tight_layout()\n",
        "plt.show()\n"
      ]
    },
    {
      "cell_type": "code",
      "execution_count": 40,
      "metadata": {
        "colab": {
          "base_uri": "https://localhost:8080/",
          "height": 452
        },
        "id": "DFSYPmtRZ_JW",
        "outputId": "b4beb21d-225c-424d-dbeb-d1be21d799ac"
      },
      "outputs": [
        {
          "output_type": "execute_result",
          "data": {
            "text/plain": [
              "   ecg_id  patient_id   age  sex      height  weight  \\\n",
              "0       1     15709.0  56.0    1  166.708292    63.0   \n",
              "1       2     13243.0  19.0    0  166.708292    70.0   \n",
              "2       3     20372.0  37.0    1  166.708292    69.0   \n",
              "3       4     17014.0  24.0    0  166.708292    82.0   \n",
              "4       5     17448.0  19.0    1  166.708292    70.0   \n",
              "\n",
              "                                  scp_codes                filename_lr  \\\n",
              "0  {'NORM': 100.0, 'LVOLT': 0.0, 'SR': 0.0}  records100/00000/00001_lr   \n",
              "1              {'NORM': 80.0, 'SBRAD': 0.0}  records100/00000/00002_lr   \n",
              "2                {'NORM': 100.0, 'SR': 0.0}  records100/00000/00003_lr   \n",
              "3                {'NORM': 100.0, 'SR': 0.0}  records100/00000/00004_lr   \n",
              "4                {'NORM': 100.0, 'SR': 0.0}  records100/00000/00005_lr   \n",
              "\n",
              "                 filename_hr scp_code  \n",
              "0  records500/00000/00001_hr     NORM  \n",
              "1  records500/00000/00002_hr     NORM  \n",
              "2  records500/00000/00003_hr     NORM  \n",
              "3  records500/00000/00004_hr     NORM  \n",
              "4  records500/00000/00005_hr     NORM  "
            ],
            "text/html": [
              "\n",
              "  <div id=\"df-25ac6772-60aa-440c-b82c-0d51207c3621\" class=\"colab-df-container\">\n",
              "    <div>\n",
              "<style scoped>\n",
              "    .dataframe tbody tr th:only-of-type {\n",
              "        vertical-align: middle;\n",
              "    }\n",
              "\n",
              "    .dataframe tbody tr th {\n",
              "        vertical-align: top;\n",
              "    }\n",
              "\n",
              "    .dataframe thead th {\n",
              "        text-align: right;\n",
              "    }\n",
              "</style>\n",
              "<table border=\"1\" class=\"dataframe\">\n",
              "  <thead>\n",
              "    <tr style=\"text-align: right;\">\n",
              "      <th></th>\n",
              "      <th>ecg_id</th>\n",
              "      <th>patient_id</th>\n",
              "      <th>age</th>\n",
              "      <th>sex</th>\n",
              "      <th>height</th>\n",
              "      <th>weight</th>\n",
              "      <th>scp_codes</th>\n",
              "      <th>filename_lr</th>\n",
              "      <th>filename_hr</th>\n",
              "      <th>scp_code</th>\n",
              "    </tr>\n",
              "  </thead>\n",
              "  <tbody>\n",
              "    <tr>\n",
              "      <th>0</th>\n",
              "      <td>1</td>\n",
              "      <td>15709.0</td>\n",
              "      <td>56.0</td>\n",
              "      <td>1</td>\n",
              "      <td>166.708292</td>\n",
              "      <td>63.0</td>\n",
              "      <td>{'NORM': 100.0, 'LVOLT': 0.0, 'SR': 0.0}</td>\n",
              "      <td>records100/00000/00001_lr</td>\n",
              "      <td>records500/00000/00001_hr</td>\n",
              "      <td>NORM</td>\n",
              "    </tr>\n",
              "    <tr>\n",
              "      <th>1</th>\n",
              "      <td>2</td>\n",
              "      <td>13243.0</td>\n",
              "      <td>19.0</td>\n",
              "      <td>0</td>\n",
              "      <td>166.708292</td>\n",
              "      <td>70.0</td>\n",
              "      <td>{'NORM': 80.0, 'SBRAD': 0.0}</td>\n",
              "      <td>records100/00000/00002_lr</td>\n",
              "      <td>records500/00000/00002_hr</td>\n",
              "      <td>NORM</td>\n",
              "    </tr>\n",
              "    <tr>\n",
              "      <th>2</th>\n",
              "      <td>3</td>\n",
              "      <td>20372.0</td>\n",
              "      <td>37.0</td>\n",
              "      <td>1</td>\n",
              "      <td>166.708292</td>\n",
              "      <td>69.0</td>\n",
              "      <td>{'NORM': 100.0, 'SR': 0.0}</td>\n",
              "      <td>records100/00000/00003_lr</td>\n",
              "      <td>records500/00000/00003_hr</td>\n",
              "      <td>NORM</td>\n",
              "    </tr>\n",
              "    <tr>\n",
              "      <th>3</th>\n",
              "      <td>4</td>\n",
              "      <td>17014.0</td>\n",
              "      <td>24.0</td>\n",
              "      <td>0</td>\n",
              "      <td>166.708292</td>\n",
              "      <td>82.0</td>\n",
              "      <td>{'NORM': 100.0, 'SR': 0.0}</td>\n",
              "      <td>records100/00000/00004_lr</td>\n",
              "      <td>records500/00000/00004_hr</td>\n",
              "      <td>NORM</td>\n",
              "    </tr>\n",
              "    <tr>\n",
              "      <th>4</th>\n",
              "      <td>5</td>\n",
              "      <td>17448.0</td>\n",
              "      <td>19.0</td>\n",
              "      <td>1</td>\n",
              "      <td>166.708292</td>\n",
              "      <td>70.0</td>\n",
              "      <td>{'NORM': 100.0, 'SR': 0.0}</td>\n",
              "      <td>records100/00000/00005_lr</td>\n",
              "      <td>records500/00000/00005_hr</td>\n",
              "      <td>NORM</td>\n",
              "    </tr>\n",
              "  </tbody>\n",
              "</table>\n",
              "</div>\n",
              "    <div class=\"colab-df-buttons\">\n",
              "\n",
              "  <div class=\"colab-df-container\">\n",
              "    <button class=\"colab-df-convert\" onclick=\"convertToInteractive('df-25ac6772-60aa-440c-b82c-0d51207c3621')\"\n",
              "            title=\"Convert this dataframe to an interactive table.\"\n",
              "            style=\"display:none;\">\n",
              "\n",
              "  <svg xmlns=\"http://www.w3.org/2000/svg\" height=\"24px\" viewBox=\"0 -960 960 960\">\n",
              "    <path d=\"M120-120v-720h720v720H120Zm60-500h600v-160H180v160Zm220 220h160v-160H400v160Zm0 220h160v-160H400v160ZM180-400h160v-160H180v160Zm440 0h160v-160H620v160ZM180-180h160v-160H180v160Zm440 0h160v-160H620v160Z\"/>\n",
              "  </svg>\n",
              "    </button>\n",
              "\n",
              "  <style>\n",
              "    .colab-df-container {\n",
              "      display:flex;\n",
              "      gap: 12px;\n",
              "    }\n",
              "\n",
              "    .colab-df-convert {\n",
              "      background-color: #E8F0FE;\n",
              "      border: none;\n",
              "      border-radius: 50%;\n",
              "      cursor: pointer;\n",
              "      display: none;\n",
              "      fill: #1967D2;\n",
              "      height: 32px;\n",
              "      padding: 0 0 0 0;\n",
              "      width: 32px;\n",
              "    }\n",
              "\n",
              "    .colab-df-convert:hover {\n",
              "      background-color: #E2EBFA;\n",
              "      box-shadow: 0px 1px 2px rgba(60, 64, 67, 0.3), 0px 1px 3px 1px rgba(60, 64, 67, 0.15);\n",
              "      fill: #174EA6;\n",
              "    }\n",
              "\n",
              "    .colab-df-buttons div {\n",
              "      margin-bottom: 4px;\n",
              "    }\n",
              "\n",
              "    [theme=dark] .colab-df-convert {\n",
              "      background-color: #3B4455;\n",
              "      fill: #D2E3FC;\n",
              "    }\n",
              "\n",
              "    [theme=dark] .colab-df-convert:hover {\n",
              "      background-color: #434B5C;\n",
              "      box-shadow: 0px 1px 3px 1px rgba(0, 0, 0, 0.15);\n",
              "      filter: drop-shadow(0px 1px 2px rgba(0, 0, 0, 0.3));\n",
              "      fill: #FFFFFF;\n",
              "    }\n",
              "  </style>\n",
              "\n",
              "    <script>\n",
              "      const buttonEl =\n",
              "        document.querySelector('#df-25ac6772-60aa-440c-b82c-0d51207c3621 button.colab-df-convert');\n",
              "      buttonEl.style.display =\n",
              "        google.colab.kernel.accessAllowed ? 'block' : 'none';\n",
              "\n",
              "      async function convertToInteractive(key) {\n",
              "        const element = document.querySelector('#df-25ac6772-60aa-440c-b82c-0d51207c3621');\n",
              "        const dataTable =\n",
              "          await google.colab.kernel.invokeFunction('convertToInteractive',\n",
              "                                                    [key], {});\n",
              "        if (!dataTable) return;\n",
              "\n",
              "        const docLinkHtml = 'Like what you see? Visit the ' +\n",
              "          '<a target=\"_blank\" href=https://colab.research.google.com/notebooks/data_table.ipynb>data table notebook</a>'\n",
              "          + ' to learn more about interactive tables.';\n",
              "        element.innerHTML = '';\n",
              "        dataTable['output_type'] = 'display_data';\n",
              "        await google.colab.output.renderOutput(dataTable, element);\n",
              "        const docLink = document.createElement('div');\n",
              "        docLink.innerHTML = docLinkHtml;\n",
              "        element.appendChild(docLink);\n",
              "      }\n",
              "    </script>\n",
              "  </div>\n",
              "\n",
              "\n",
              "<div id=\"df-0d70f8ab-5fa2-4e67-b920-fe49c35db2f4\">\n",
              "  <button class=\"colab-df-quickchart\" onclick=\"quickchart('df-0d70f8ab-5fa2-4e67-b920-fe49c35db2f4')\"\n",
              "            title=\"Suggest charts\"\n",
              "            style=\"display:none;\">\n",
              "\n",
              "<svg xmlns=\"http://www.w3.org/2000/svg\" height=\"24px\"viewBox=\"0 0 24 24\"\n",
              "     width=\"24px\">\n",
              "    <g>\n",
              "        <path d=\"M19 3H5c-1.1 0-2 .9-2 2v14c0 1.1.9 2 2 2h14c1.1 0 2-.9 2-2V5c0-1.1-.9-2-2-2zM9 17H7v-7h2v7zm4 0h-2V7h2v10zm4 0h-2v-4h2v4z\"/>\n",
              "    </g>\n",
              "</svg>\n",
              "  </button>\n",
              "\n",
              "<style>\n",
              "  .colab-df-quickchart {\n",
              "      --bg-color: #E8F0FE;\n",
              "      --fill-color: #1967D2;\n",
              "      --hover-bg-color: #E2EBFA;\n",
              "      --hover-fill-color: #174EA6;\n",
              "      --disabled-fill-color: #AAA;\n",
              "      --disabled-bg-color: #DDD;\n",
              "  }\n",
              "\n",
              "  [theme=dark] .colab-df-quickchart {\n",
              "      --bg-color: #3B4455;\n",
              "      --fill-color: #D2E3FC;\n",
              "      --hover-bg-color: #434B5C;\n",
              "      --hover-fill-color: #FFFFFF;\n",
              "      --disabled-bg-color: #3B4455;\n",
              "      --disabled-fill-color: #666;\n",
              "  }\n",
              "\n",
              "  .colab-df-quickchart {\n",
              "    background-color: var(--bg-color);\n",
              "    border: none;\n",
              "    border-radius: 50%;\n",
              "    cursor: pointer;\n",
              "    display: none;\n",
              "    fill: var(--fill-color);\n",
              "    height: 32px;\n",
              "    padding: 0;\n",
              "    width: 32px;\n",
              "  }\n",
              "\n",
              "  .colab-df-quickchart:hover {\n",
              "    background-color: var(--hover-bg-color);\n",
              "    box-shadow: 0 1px 2px rgba(60, 64, 67, 0.3), 0 1px 3px 1px rgba(60, 64, 67, 0.15);\n",
              "    fill: var(--button-hover-fill-color);\n",
              "  }\n",
              "\n",
              "  .colab-df-quickchart-complete:disabled,\n",
              "  .colab-df-quickchart-complete:disabled:hover {\n",
              "    background-color: var(--disabled-bg-color);\n",
              "    fill: var(--disabled-fill-color);\n",
              "    box-shadow: none;\n",
              "  }\n",
              "\n",
              "  .colab-df-spinner {\n",
              "    border: 2px solid var(--fill-color);\n",
              "    border-color: transparent;\n",
              "    border-bottom-color: var(--fill-color);\n",
              "    animation:\n",
              "      spin 1s steps(1) infinite;\n",
              "  }\n",
              "\n",
              "  @keyframes spin {\n",
              "    0% {\n",
              "      border-color: transparent;\n",
              "      border-bottom-color: var(--fill-color);\n",
              "      border-left-color: var(--fill-color);\n",
              "    }\n",
              "    20% {\n",
              "      border-color: transparent;\n",
              "      border-left-color: var(--fill-color);\n",
              "      border-top-color: var(--fill-color);\n",
              "    }\n",
              "    30% {\n",
              "      border-color: transparent;\n",
              "      border-left-color: var(--fill-color);\n",
              "      border-top-color: var(--fill-color);\n",
              "      border-right-color: var(--fill-color);\n",
              "    }\n",
              "    40% {\n",
              "      border-color: transparent;\n",
              "      border-right-color: var(--fill-color);\n",
              "      border-top-color: var(--fill-color);\n",
              "    }\n",
              "    60% {\n",
              "      border-color: transparent;\n",
              "      border-right-color: var(--fill-color);\n",
              "    }\n",
              "    80% {\n",
              "      border-color: transparent;\n",
              "      border-right-color: var(--fill-color);\n",
              "      border-bottom-color: var(--fill-color);\n",
              "    }\n",
              "    90% {\n",
              "      border-color: transparent;\n",
              "      border-bottom-color: var(--fill-color);\n",
              "    }\n",
              "  }\n",
              "</style>\n",
              "\n",
              "  <script>\n",
              "    async function quickchart(key) {\n",
              "      const quickchartButtonEl =\n",
              "        document.querySelector('#' + key + ' button');\n",
              "      quickchartButtonEl.disabled = true;  // To prevent multiple clicks.\n",
              "      quickchartButtonEl.classList.add('colab-df-spinner');\n",
              "      try {\n",
              "        const charts = await google.colab.kernel.invokeFunction(\n",
              "            'suggestCharts', [key], {});\n",
              "      } catch (error) {\n",
              "        console.error('Error during call to suggestCharts:', error);\n",
              "      }\n",
              "      quickchartButtonEl.classList.remove('colab-df-spinner');\n",
              "      quickchartButtonEl.classList.add('colab-df-quickchart-complete');\n",
              "    }\n",
              "    (() => {\n",
              "      let quickchartButtonEl =\n",
              "        document.querySelector('#df-0d70f8ab-5fa2-4e67-b920-fe49c35db2f4 button');\n",
              "      quickchartButtonEl.style.display =\n",
              "        google.colab.kernel.accessAllowed ? 'block' : 'none';\n",
              "    })();\n",
              "  </script>\n",
              "</div>\n",
              "\n",
              "    </div>\n",
              "  </div>\n"
            ],
            "application/vnd.google.colaboratory.intrinsic+json": {
              "type": "dataframe",
              "variable_name": "df",
              "summary": "{\n  \"name\": \"df\",\n  \"rows\": 21837,\n  \"fields\": [\n    {\n      \"column\": \"ecg_id\",\n      \"properties\": {\n        \"dtype\": \"number\",\n        \"std\": 6303,\n        \"min\": 1,\n        \"max\": 21837,\n        \"num_unique_values\": 21837,\n        \"samples\": [\n          719,\n          20102,\n          9470\n        ],\n        \"semantic_type\": \"\",\n        \"description\": \"\"\n      }\n    },\n    {\n      \"column\": \"patient_id\",\n      \"properties\": {\n        \"dtype\": \"number\",\n        \"std\": 6234.132488744121,\n        \"min\": 302.0,\n        \"max\": 21797.0,\n        \"num_unique_values\": 18885,\n        \"samples\": [\n          6036.0,\n          1635.0,\n          16961.0\n        ],\n        \"semantic_type\": \"\",\n        \"description\": \"\"\n      }\n    },\n    {\n      \"column\": \"age\",\n      \"properties\": {\n        \"dtype\": \"number\",\n        \"std\": 16.918540288774636,\n        \"min\": 2.0,\n        \"max\": 95.0,\n        \"num_unique_values\": 95,\n        \"samples\": [\n          76.0,\n          23.0,\n          90.0\n        ],\n        \"semantic_type\": \"\",\n        \"description\": \"\"\n      }\n    },\n    {\n      \"column\": \"sex\",\n      \"properties\": {\n        \"dtype\": \"number\",\n        \"std\": 0,\n        \"min\": 0,\n        \"max\": 1,\n        \"num_unique_values\": 2,\n        \"samples\": [\n          0,\n          1\n        ],\n        \"semantic_type\": \"\",\n        \"description\": \"\"\n      }\n    },\n    {\n      \"column\": \"height\",\n      \"properties\": {\n        \"dtype\": \"number\",\n        \"std\": 6.143707025093546,\n        \"min\": 6.0,\n        \"max\": 209.0,\n        \"num_unique_values\": 78,\n        \"samples\": [\n          186.0,\n          166.70829156522984\n        ],\n        \"semantic_type\": \"\",\n        \"description\": \"\"\n      }\n    },\n    {\n      \"column\": \"weight\",\n      \"properties\": {\n        \"dtype\": \"number\",\n        \"std\": 10.431360765045813,\n        \"min\": 5.0,\n        \"max\": 250.0,\n        \"num_unique_values\": 128,\n        \"samples\": [\n          100.0,\n          77.0\n        ],\n        \"semantic_type\": \"\",\n        \"description\": \"\"\n      }\n    },\n    {\n      \"column\": \"scp_codes\",\n      \"properties\": {\n        \"dtype\": \"category\",\n        \"num_unique_values\": 5466,\n        \"samples\": [\n          \"{'CRBBB': 100.0, 'PVC': 100.0, 'ABQRS': 0.0, 'SR': 0.0}\",\n          \"{'NORM': 100.0, 'HVOLT': 0.0, 'SBRAD': 0.0}\"\n        ],\n        \"semantic_type\": \"\",\n        \"description\": \"\"\n      }\n    },\n    {\n      \"column\": \"filename_lr\",\n      \"properties\": {\n        \"dtype\": \"string\",\n        \"num_unique_values\": 21837,\n        \"samples\": [\n          \"records100/00000/00719_lr\",\n          \"records100/20000/20102_lr\"\n        ],\n        \"semantic_type\": \"\",\n        \"description\": \"\"\n      }\n    },\n    {\n      \"column\": \"filename_hr\",\n      \"properties\": {\n        \"dtype\": \"string\",\n        \"num_unique_values\": 21837,\n        \"samples\": [\n          \"records500/00000/00719_hr\",\n          \"records500/20000/20102_hr\"\n        ],\n        \"semantic_type\": \"\",\n        \"description\": \"\"\n      }\n    },\n    {\n      \"column\": \"scp_code\",\n      \"properties\": {\n        \"dtype\": \"category\",\n        \"num_unique_values\": 49,\n        \"samples\": [\n          \"ISCAL\",\n          \"INJIN\"\n        ],\n        \"semantic_type\": \"\",\n        \"description\": \"\"\n      }\n    }\n  ]\n}"
            }
          },
          "metadata": {},
          "execution_count": 40
        }
      ],
      "source": [
        "df.head()"
      ]
    },
    {
      "cell_type": "markdown",
      "metadata": {
        "id": "ZLJbXcbtaFei"
      },
      "source": [
        "## Multimodal data representation\n",
        "\n",
        "Input data:\n",
        "- age\n",
        "- sex\n",
        "- height\n",
        "- weight\n",
        "- ECG compressed signals (raw signal data in .hea form - both low res and high res form available. In this model, we use the low res form because of computing constraints)\n",
        "\n",
        "Output data:\n",
        "- SCP Code"
      ]
    },
    {
      "cell_type": "code",
      "execution_count": 41,
      "metadata": {
        "id": "MhT7qL6MBtcF"
      },
      "outputs": [],
      "source": [
        "# Import required packages\n",
        "import numpy as np\n",
        "import cv2\n",
        "import matplotlib.pyplot as plt\n",
        "from sklearn.metrics import classification_report\n",
        "from sklearn.linear_model import LogisticRegression\n",
        "\n",
        "import tensorflow as tf\n",
        "from tensorflow.keras import layers, models\n",
        "\n",
        "# for more specific training\n",
        "import numpy as np\n",
        "import torch\n",
        "import torch.nn as nn"
      ]
    },
    {
      "cell_type": "code",
      "execution_count": 42,
      "metadata": {
        "colab": {
          "base_uri": "https://localhost:8080/",
          "height": 169
        },
        "id": "uIkrW1TpQw9G",
        "outputId": "65839354-dfda-4700-9153-ec2716edd82a"
      },
      "outputs": [
        {
          "output_type": "display_data",
          "data": {
            "text/plain": [
              "<Figure size 640x480 with 2 Axes>"
            ],
            "image/png": "[encoded data removed]"
          },
          "metadata": {}
        }
      ],
      "source": [
        "# Example data\n",
        "fpath = \"/content/ptb-xl-a-large-publicly-available-electrocardiography-dataset-1.0.1/records100/00000/00001_lr\"\n",
        "data_lr = wfdb.rdsamp(fpath)\n",
        "\n",
        "plt.imshow(data_lr[0].T, cmap='Blues')  # Use 'gray' colormap for grayscale images\n",
        "cbar = plt.colorbar(orientation='horizontal')  # Add colorbar to show color scale\n",
        "plt.title('Compressed ECG Signals (LR)')\n",
        "plt.axis('off')  # Hide axis\n",
        "plt.show()"
      ]
    },
    {
      "cell_type": "code",
      "execution_count": 43,
      "metadata": {
        "colab": {
          "base_uri": "https://localhost:8080/",
          "height": 133
        },
        "id": "0e_HSGDSTJQ-",
        "outputId": "6a7b729f-421d-4d52-88e6-df499ceaefd4"
      },
      "outputs": [
        {
          "output_type": "display_data",
          "data": {
            "text/plain": [
              "<Figure size 1500x400 with 2 Axes>"
            ],
            "image/png": "[encoded data removed]"
          },
          "metadata": {}
        }
      ],
      "source": [
        "fpath = \"/content/ptb-xl-a-large-publicly-available-electrocardiography-dataset-1.0.1/records500/00000/00001_hr\"\n",
        "data_hr = wfdb.rdsamp(fpath)\n",
        "\n",
        "plt.figure(figsize=(15, 4))\n",
        "\n",
        "plt.imshow(data_hr[0].T, cmap='Greens')  # Use 'gray' colormap for grayscale images\n",
        "cbar = plt.colorbar(orientation='horizontal')  # Add colorbar to show color scale\n",
        "plt.title('Compressed ECG Signals (HR)')\n",
        "plt.axis('off')  # Hide axis\n",
        "plt.show()"
      ]
    },
    {
      "cell_type": "code",
      "execution_count": 44,
      "metadata": {
        "colab": {
          "base_uri": "https://localhost:8080/"
        },
        "id": "cJyTX_EnYJxB",
        "outputId": "7b63c748-e06b-473a-ec0d-f46c64e17f38"
      },
      "outputs": [
        {
          "output_type": "stream",
          "name": "stdout",
          "text": [
            "Low res data signals:  (1000, 12) \n",
            "High res data signals:  (5000, 12)\n"
          ]
        }
      ],
      "source": [
        "print(\"Low res data signals: \", str(data_lr[0].shape),\n",
        "      \"\\nHigh res data signals: \", str(data_hr[0].shape))"
      ]
    },
    {
      "cell_type": "code",
      "execution_count": 45,
      "metadata": {
        "id": "Kbubq2wAEQVG"
      },
      "outputs": [],
      "source": [
        "ecg_lr_path = [\"/content/ptb-xl-a-large-publicly-available-electrocardiography-dataset-1.0.1/\" + str(fn) for fn in df[\"filename_lr\"]]\n",
        "\n",
        "ecg_lr_data = [wfdb.rdsamp(fp)[0] for fp in ecg_lr_path]"
      ]
    },
    {
      "cell_type": "code",
      "execution_count": 46,
      "metadata": {
        "id": "daI_c6wkEl36"
      },
      "outputs": [],
      "source": [
        "ehr_columns = ['age', 'sex', 'height', 'weight']\n",
        "ehr_data = df[ehr_columns].to_numpy()"
      ]
    },
    {
      "cell_type": "code",
      "execution_count": 47,
      "metadata": {
        "id": "DQQEp9isF3OD"
      },
      "outputs": [],
      "source": [
        "ecg_lr_data_np = np.array(ecg_lr_data)"
      ]
    },
    {
      "cell_type": "code",
      "execution_count": 48,
      "metadata": {
        "id": "Omh1ifcbLmpV"
      },
      "outputs": [],
      "source": [
        "# ecg_hr_path = [\"/content/ptb-xl-a-large-publicly-available-electrocardiography-dataset-1.0.1/\" + str(fn) for fn in df[\"filename_hr\"]]\n",
        "\n",
        "# ecg_hr_data = np.array([wfdb.rdsamp(fp)[0] for fp in ecg_hr_path])"
      ]
    },
    {
      "cell_type": "code",
      "execution_count": 49,
      "metadata": {
        "id": "2ViHfOBFHIYP"
      },
      "outputs": [],
      "source": [
        "scp_code_labels = {}\n",
        "labels_scp_code = {}\n",
        "i=0\n",
        "for code in df['scp_code'].unique():\n",
        "  scp_code_labels[code] = i\n",
        "  labels_scp_code[i] = code\n",
        "  i+=1"
      ]
    },
    {
      "cell_type": "code",
      "execution_count": 50,
      "metadata": {
        "id": "PNj7pWWsGsD7"
      },
      "outputs": [],
      "source": [
        "# convert codes to numerical values\n",
        "scp_data = np.array([scp_code_labels[code] for code in df['scp_code']])"
      ]
    },
    {
      "cell_type": "code",
      "execution_count": 51,
      "metadata": {
        "id": "6FVBwhm7GAn_"
      },
      "outputs": [],
      "source": [
        "n = ecg_lr_data_np.shape[0]\n",
        "train_n = int(0.8*n)\n",
        "val_n = int(0.9*n) # goes up to this amount\n",
        "test_n = int(n - train_n)"
      ]
    },
    {
      "cell_type": "code",
      "execution_count": 52,
      "metadata": {
        "id": "X2R0nB53Fpxf"
      },
      "outputs": [],
      "source": [
        "# separate into training and testing data\n",
        "\n",
        "# for training\n",
        "x_train_ecg = ecg_lr_data_np[:train_n, :, :]  # first 80% images\n",
        "x_train_ehr = ehr_data[:train_n] # first 80% records\n",
        "y_train_scp = scp_data[:train_n] # first 80% scp codes (desired output)\n",
        "\n",
        "#for validation (next 10%. last 10% reserved for testing)\n",
        "x_val_ecg = ecg_lr_data_np[train_n+1:val_n, :, :]\n",
        "x_val_ehr = ehr_data[train_n+1:val_n]\n",
        "y_val_scp = scp_data[train_n+1:val_n]"
      ]
    },
    {
      "cell_type": "markdown",
      "metadata": {
        "id": "S8vlFVHHEOBj"
      },
      "source": [
        "## Model Training (Low res ECG)"
      ]
    },
    {
      "cell_type": "code",
      "execution_count": 53,
      "metadata": {
        "id": "ChGbcEZQS_zH",
        "colab": {
          "base_uri": "https://localhost:8080/"
        },
        "outputId": "833ecd09-f8f2-4758-ef00-84f82b69e58e"
      },
      "outputs": [
        {
          "output_type": "stream",
          "name": "stdout",
          "text": [
            "Model: \"model_1\"\n",
            "__________________________________________________________________________________________________\n",
            " Layer (type)                Output Shape                 Param #   Connected to                  \n",
            "==================================================================================================\n",
            " ecg_input (InputLayer)      [(None, 1000, 12)]           0         []                            \n",
            "                                                                                                  \n",
            " conv1d_4 (Conv1D)           (None, 1000, 100)            3700      ['ecg_input[0][0]']           \n",
            "                                                                                                  \n",
            " conv1d_5 (Conv1D)           (None, 1000, 64)             19264     ['conv1d_4[0][0]']            \n",
            "                                                                                                  \n",
            " max_pooling1d_2 (MaxPoolin  (None, 500, 64)              0         ['conv1d_5[0][0]']            \n",
            " g1D)                                                                                             \n",
            "                                                                                                  \n",
            " conv1d_6 (Conv1D)           (None, 500, 128)             24704     ['max_pooling1d_2[0][0]']     \n",
            "                                                                                                  \n",
            " conv1d_7 (Conv1D)           (None, 500, 128)             49280     ['conv1d_6[0][0]']            \n",
            "                                                                                                  \n",
            " max_pooling1d_3 (MaxPoolin  (None, 250, 128)             0         ['conv1d_7[0][0]']            \n",
            " g1D)                                                                                             \n",
            "                                                                                                  \n",
            " flatten_1 (Flatten)         (None, 32000)                0         ['max_pooling1d_3[0][0]']     \n",
            "                                                                                                  \n",
            " ehr_input (InputLayer)      [(None, 4)]                  0         []                            \n",
            "                                                                                                  \n",
            " concatenate_1 (Concatenate  (None, 32004)                0         ['flatten_1[0][0]',           \n",
            " )                                                                   'ehr_input[0][0]']           \n",
            "                                                                                                  \n",
            " dropout_2 (Dropout)         (None, 32004)                0         ['concatenate_1[0][0]']       \n",
            "                                                                                                  \n",
            " dense_2 (Dense)             (None, 256)                  8193280   ['dropout_2[0][0]']           \n",
            "                                                                                                  \n",
            " dense_3 (Dense)             (None, 128)                  32896     ['dense_2[0][0]']             \n",
            "                                                                                                  \n",
            " dropout_3 (Dropout)         (None, 128)                  0         ['dense_3[0][0]']             \n",
            "                                                                                                  \n",
            " output (Dense)              (None, 10)                   1290      ['dropout_3[0][0]']           \n",
            "                                                                                                  \n",
            "==================================================================================================\n",
            "Total params: 8324414 (31.76 MB)\n",
            "Trainable params: 8324414 (31.76 MB)\n",
            "Non-trainable params: 0 (0.00 Byte)\n",
            "__________________________________________________________________________________________________\n"
          ]
        }
      ],
      "source": [
        "# input layers for image and unclean label\n",
        "ecg_input = tf.keras.layers.Input(shape=(1000, 12), name='ecg_input') #low res ecg\n",
        "ehr_input = tf.keras.layers.Input(shape=(4,), name='ehr_input')\n",
        "\n",
        "# cnn for image\n",
        "# conv1 = tf.keras.layers.Conv2D(1000, (3, 3), activation='relu', padding='same')(ecg_input)\n",
        "# conv2 = tf.keras.layers.Conv2D(64, (3, 3), activation='relu', padding='same')(conv1)\n",
        "# pool1 = tf.keras.layers.MaxPooling2D((2, 2))(conv2)\n",
        "\n",
        "# conv3 = tf.keras.layers.Conv2D(128, (3, 3), activation='relu', padding='same')(pool1)\n",
        "# conv4 = tf.keras.layers.Conv2D(128, (3, 3), activation='relu', padding='same')(conv3)\n",
        "# pool2 = tf.keras.layers.MaxPooling2D((2, 2))(conv4)\n",
        "conv1 = tf.keras.layers.Conv1D(100, 3, activation='relu', padding='same')(ecg_input)\n",
        "conv2 = tf.keras.layers.Conv1D(64, 3, activation='relu', padding='same')(conv1)\n",
        "pool1 = tf.keras.layers.MaxPooling1D(2)(conv2)\n",
        "\n",
        "conv3 = tf.keras.layers.Conv1D(128, 3, activation='relu', padding='same')(pool1)\n",
        "conv4 = tf.keras.layers.Conv1D(128, 3, activation='relu', padding='same')(conv3)\n",
        "pool2 = tf.keras.layers.MaxPooling1D(2)(conv4)\n",
        "\n",
        "# Flatten the pooled features\n",
        "flattened_pool = tf.keras.layers.Flatten()(pool2)\n",
        "\n",
        "# Concatenate flattened image and unclean label inputs\n",
        "concatenated_inputs = tf.keras.layers.Concatenate()([flattened_pool, ehr_input])\n",
        "\n",
        "# Add dropout for regularization\n",
        "dropout1 = tf.keras.layers.Dropout(0.25)(concatenated_inputs)\n",
        "\n",
        "# Dense layers for feature extraction\n",
        "dense1 = tf.keras.layers.Dense(256, activation='relu')(dropout1)\n",
        "dense2 = tf.keras.layers.Dense(128, activation='relu')(dense1)\n",
        "\n",
        "# Add dropout for regularization\n",
        "dropout2 = tf.keras.layers.Dropout(0.5)(dense2)\n",
        "\n",
        "# Output layer\n",
        "output = tf.keras.layers.Dense(10, activation='softmax', name='output')(dropout2)\n",
        "\n",
        "# Define the model with multiple inputs\n",
        "model = tf.keras.models.Model(inputs=[ecg_input, ehr_input], outputs=output)\n",
        "\n",
        "# Compile the model\n",
        "model.compile(optimizer=\"adam\", loss='sparse_categorical_crossentropy', metrics=['accuracy'])\n",
        "\n",
        "# Print model summary\n",
        "model.summary()"
      ]
    },
    {
      "cell_type": "code",
      "execution_count": 1,
      "metadata": {
        "id": "ZR5ipzD6DR8U",
        "colab": {
          "base_uri": "https://localhost:8080/",
          "height": 233
        },
        "outputId": "701970f1-8cdd-4bf3-e247-68aa44987f04"
      },
      "outputs": [
        {
          "output_type": "error",
          "ename": "NameError",
          "evalue": "name 'tf' is not defined",
          "traceback": [
            "\u001b[0;31m---------------------------------------------------------------------------\u001b[0m",
            "\u001b[0;31mNameError\u001b[0m                                 Traceback (most recent call last)",
            "\u001b[0;32m<ipython-input-1-071a5b62a23e>\u001b[0m in \u001b[0;36m<cell line: 1>\u001b[0;34m()\u001b[0m\n\u001b[0;32m----> 1\u001b[0;31m \u001b[0mearly_stopping\u001b[0m \u001b[0;34m=\u001b[0m \u001b[0mtf\u001b[0m\u001b[0;34m.\u001b[0m\u001b[0mkeras\u001b[0m\u001b[0;34m.\u001b[0m\u001b[0mcallbacks\u001b[0m\u001b[0;34m.\u001b[0m\u001b[0mEarlyStopping\u001b[0m\u001b[0;34m(\u001b[0m\u001b[0mmonitor\u001b[0m\u001b[0;34m=\u001b[0m\u001b[0;34m'val_loss'\u001b[0m\u001b[0;34m,\u001b[0m \u001b[0mpatience\u001b[0m\u001b[0;34m=\u001b[0m\u001b[0;36m3\u001b[0m\u001b[0;34m,\u001b[0m \u001b[0mmin_delta\u001b[0m \u001b[0;34m=\u001b[0m \u001b[0;36m0.0001\u001b[0m\u001b[0;34m,\u001b[0m \u001b[0mrestore_best_weights\u001b[0m\u001b[0;34m=\u001b[0m\u001b[0;32mTrue\u001b[0m\u001b[0;34m)\u001b[0m\u001b[0;34m\u001b[0m\u001b[0;34m\u001b[0m\u001b[0m\n\u001b[0m\u001b[1;32m      2\u001b[0m \u001b[0mlearning_rate_scheduler\u001b[0m \u001b[0;34m=\u001b[0m \u001b[0mtf\u001b[0m\u001b[0;34m.\u001b[0m\u001b[0mkeras\u001b[0m\u001b[0;34m.\u001b[0m\u001b[0mcallbacks\u001b[0m\u001b[0;34m.\u001b[0m\u001b[0mReduceLROnPlateau\u001b[0m\u001b[0;34m(\u001b[0m\u001b[0mfactor\u001b[0m\u001b[0;34m=\u001b[0m\u001b[0;36m0.5\u001b[0m\u001b[0;34m,\u001b[0m \u001b[0mpatience\u001b[0m\u001b[0;34m=\u001b[0m\u001b[0;36m2\u001b[0m\u001b[0;34m)\u001b[0m\u001b[0;34m\u001b[0m\u001b[0;34m\u001b[0m\u001b[0m\n\u001b[1;32m      3\u001b[0m \u001b[0;34m\u001b[0m\u001b[0m\n\u001b[1;32m      4\u001b[0m \u001b[0;31m# Train the model\u001b[0m\u001b[0;34m\u001b[0m\u001b[0;34m\u001b[0m\u001b[0m\n\u001b[1;32m      5\u001b[0m history_model1 = model.fit([x_train_ecg,x_train_ehr], y_train_scp, epochs=50,\n",
            "\u001b[0;31mNameError\u001b[0m: name 'tf' is not defined"
          ]
        }
      ],
      "source": [
        "early_stopping = tf.keras.callbacks.EarlyStopping(monitor='val_loss', patience=3, min_delta = 0.0001, restore_best_weights=True)\n",
        "learning_rate_scheduler = tf.keras.callbacks.ReduceLROnPlateau(factor=0.5, patience=2)\n",
        "\n",
        "# Train the model\n",
        "history_model1 = model.fit([x_train_ecg,x_train_ehr], y_train_scp, epochs=50,\n",
        "                          validation_data=([x_val_ecg, x_val_ehr], y_val_scp),\n",
        "                                   callbacks=[early_stopping, learning_rate_scheduler])\n",
        "\n",
        "# Evaluate the model\n",
        "test_loss, test_acc = model.evaluate([x_val_ecg, x_val_ehr], y_val_scp)\n",
        "print('Test accuracy:', test_acc)"
      ]
    },
    {
      "cell_type": "markdown",
      "source": [
        "### Visualizations for Model 1"
      ],
      "metadata": {
        "id": "o2HoMfVUSC1N"
      }
    },
    {
      "cell_type": "code",
      "source": [
        "## Accuracy and Loss\n",
        "\n",
        "# Plot training & validation accuracy values\n",
        "plt.plot(history_model1.history['accuracy'])\n",
        "plt.plot(history_model1.history['val_accuracy'])\n",
        "plt.title('Model I accuracy')\n",
        "plt.ylabel('Accuracy')\n",
        "plt.xlabel('Epoch')\n",
        "plt.legend(['Train', 'Validation'], loc='upper left')\n",
        "plt.show()\n",
        "\n",
        "# Plot training & validation loss values\n",
        "plt.plot(history_model1.history['loss'])\n",
        "plt.plot(history_model1.history['val_loss'])\n",
        "plt.title('Model I loss')\n",
        "plt.ylabel('Loss')\n",
        "plt.xlabel('Epoch')\n",
        "plt.legend(['Train', 'Validation'], loc='upper left')\n",
        "plt.show()\n"
      ],
      "metadata": {
        "colab": {
          "base_uri": "https://localhost:8080/",
          "height": 927
        },
        "id": "gjPAUPSlSHnA",
        "outputId": "c5dc8229-7f28-4f25-c411-166e767f6f21"
      },
      "execution_count": 55,
      "outputs": [
        {
          "output_type": "display_data",
          "data": {
            "text/plain": [
              "<Figure size 640x480 with 1 Axes>"
            ],
            "image/png": "[encoded data removed]"
          },
          "metadata": {}
        },
        {
          "output_type": "display_data",
          "data": {
            "text/plain": [
              "<Figure size 640x480 with 1 Axes>"
            ],
            "image/png": "[encoded data removed]"
          },
          "metadata": {}
        }
      ]
    },
    {
      "cell_type": "markdown",
      "metadata": {
        "id": "cNY6_y7sKFzw"
      },
      "source": [
        "## Model 2 (Low res ECG)\n",
        "\n",
        "Tried with high res ecg signals and it just kept crashing my RAM"
      ]
    },
    {
      "cell_type": "code",
      "execution_count": null,
      "metadata": {
        "id": "Ie-fy487OaOP"
      },
      "outputs": [],
      "source": [
        "model.save(\"model1.h5\")\n",
        "np.save('ecg_lr_data_np.npy', ecg_lr_data_np)"
      ]
    },
    {
      "cell_type": "code",
      "execution_count": null,
      "metadata": {
        "id": "6V6UC7nrLi7K"
      },
      "outputs": [],
      "source": []
    }
  ],
  "metadata": {
    "accelerator": "GPU",
    "colab": {
      "gpuType": "T4",
      "provenance": [],
      "toc_visible": true
    },
    "kernelspec": {
      "display_name": "Python 3",
      "name": "python3"
    },
    "language_info": {
      "name": "python"
    }
  },
  "nbformat": 4,
  "nbformat_minor": 0
}